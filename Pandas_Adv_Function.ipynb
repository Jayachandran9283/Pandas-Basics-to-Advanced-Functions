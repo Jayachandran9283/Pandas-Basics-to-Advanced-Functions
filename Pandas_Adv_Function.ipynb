{
 "cells": [
  {
   "cell_type": "code",
   "execution_count": 2,
   "metadata": {},
   "outputs": [
    {
     "data": {
      "text/plain": [
       "4"
      ]
     },
     "execution_count": 2,
     "metadata": {},
     "output_type": "execute_result"
    }
   ],
   "source": [
    "def square(y):\n",
    "    return y*y\n",
    "square(2)"
   ]
  },
  {
   "cell_type": "code",
   "execution_count": null,
   "metadata": {},
   "outputs": [],
   "source": [
    "## Anonymous Function - Lambda Function - It has no name\n",
    "##Syntax \n",
    "df['col_name'].apply(lambda x: x*x)\n",
    "\n",
    "df1['new_col'] = df.apply(lambda x: some_function(x['col_1'],x['col_2']),axis = 1)"
   ]
  },
  {
   "cell_type": "code",
   "execution_count": 3,
   "metadata": {},
   "outputs": [
    {
     "name": "stdout",
     "output_type": "stream",
     "text": [
      "4\n"
     ]
    }
   ],
   "source": [
    "s = lambda y: y*y\n",
    "print(s(2))"
   ]
  },
  {
   "cell_type": "code",
   "execution_count": null,
   "metadata": {},
   "outputs": [],
   "source": [
    "#Map Function \n",
    "map(FUNC,*ITERABLE)\n",
    "'''\n",
    "Docstring:     \n",
    "map(func, *iterables) --> map object\n",
    "\n",
    "Make an iterator that computes the function using arguments from\n",
    "each of the iterables.  Stops when the shortest iterable is exhausted.\n",
    "'''"
   ]
  },
  {
   "cell_type": "code",
   "execution_count": 4,
   "metadata": {},
   "outputs": [
    {
     "data": {
      "text/plain": [
       "['ABIJITH', 'SENTHIL', 'HARI', 'LAXMI']"
      ]
     },
     "execution_count": 4,
     "metadata": {},
     "output_type": "execute_result"
    }
   ],
   "source": [
    "myfriends = ['Abijith','Senthil','Hari','Laxmi']\n",
    "uppercase =  []\n",
    "\n",
    "for names in myfriends: \n",
    "    name_upper = names.upper()\n",
    "    uppercase.append(name_upper)\n",
    "uppercase"
   ]
  },
  {
   "cell_type": "code",
   "execution_count": 8,
   "metadata": {},
   "outputs": [
    {
     "data": {
      "text/plain": [
       "['ABIJITH', 'SENTHIL', 'HARI', 'LAXMI']"
      ]
     },
     "execution_count": 8,
     "metadata": {},
     "output_type": "execute_result"
    }
   ],
   "source": [
    "list(map(str.upper, myfriends))"
   ]
  },
  {
   "cell_type": "code",
   "execution_count": null,
   "metadata": {},
   "outputs": [],
   "source": [
    "#Assignment1\n",
    "float_numbers = [7.44,9.00,5.92,60.30,4.67]\n",
    "\n",
    "1. Use map and return a list with rounded numbers\n"
   ]
  },
  {
   "cell_type": "code",
   "execution_count": 11,
   "metadata": {},
   "outputs": [
    {
     "data": {
      "text/plain": [
       "'\\n1. Loops \\n2. Lambda + Map\\n'"
      ]
     },
     "execution_count": 11,
     "metadata": {},
     "output_type": "execute_result"
    }
   ],
   "source": [
    "#Assignment2\n",
    "name =['Abijith','Senthil','Hari','Laxmi']\n",
    "index = [1,2,3,4]\n",
    "\n",
    "[('Abijith',1),('Senthil',2),('Hari','3'),('Laxmi',4)]\n",
    "\n",
    "'''\n",
    "1. Loops \n",
    "2. Lambda + Map\n",
    "'''"
   ]
  },
  {
   "cell_type": "code",
   "execution_count": 12,
   "metadata": {},
   "outputs": [
    {
     "data": {
      "text/plain": [
       "[('Abijith', 1), ('Senthil', 2), ('Hari', 3), ('Laxmi', 4)]"
      ]
     },
     "execution_count": 12,
     "metadata": {},
     "output_type": "execute_result"
    }
   ],
   "source": [
    "list(map(lambda i,j:(i,j),name,index))"
   ]
  },
  {
   "cell_type": "code",
   "execution_count": 14,
   "metadata": {
    "scrolled": false
   },
   "outputs": [
    {
     "data": {
      "text/plain": [
       "'\\nDocstring:     \\nfilter(function or None, iterable) --> filter object\\n\\nReturn an iterator yielding those items of iterable for which function(item)\\nis true. If function is None, return the items that are true.\\n'"
      ]
     },
     "execution_count": 14,
     "metadata": {},
     "output_type": "execute_result"
    }
   ],
   "source": [
    "#Filter\n",
    "'''\n",
    "Docstring:     \n",
    "filter(function or None, iterable) --> filter object\n",
    "\n",
    "Return an iterator yielding those items of iterable for which function(item)\n",
    "is true. If function is None, return the items that are true.\n",
    "'''"
   ]
  },
  {
   "cell_type": "code",
   "execution_count": 18,
   "metadata": {},
   "outputs": [],
   "source": [
    "Salary = [50000,40000,30000,60000]\n",
    "lst = []\n",
    "for i in Salary: \n",
    "    if(i < 50000):\n",
    "        lst.append(i)"
   ]
  },
  {
   "cell_type": "code",
   "execution_count": 19,
   "metadata": {},
   "outputs": [
    {
     "data": {
      "text/plain": [
       "[40000, 30000]"
      ]
     },
     "execution_count": 19,
     "metadata": {},
     "output_type": "execute_result"
    }
   ],
   "source": [
    "lst"
   ]
  },
  {
   "cell_type": "code",
   "execution_count": 24,
   "metadata": {},
   "outputs": [
    {
     "data": {
      "text/plain": [
       "[False, True, True, False]"
      ]
     },
     "execution_count": 24,
     "metadata": {},
     "output_type": "execute_result"
    }
   ],
   "source": [
    "def lower_salary(salaries):\n",
    "    return salaries < 50000\n",
    "list(map(lower_salary,Salary))"
   ]
  },
  {
   "cell_type": "code",
   "execution_count": 22,
   "metadata": {},
   "outputs": [
    {
     "data": {
      "text/plain": [
       "[40000, 30000]"
      ]
     },
     "execution_count": 22,
     "metadata": {},
     "output_type": "execute_result"
    }
   ],
   "source": [
    "#Filter automaticaly filters and outputs values for True conditions alone (its not apply its filter)\n",
    "list(filter(lower_salary,Salary))"
   ]
  },
  {
   "cell_type": "code",
   "execution_count": null,
   "metadata": {},
   "outputs": [],
   "source": [
    "#List Comprehension\n",
    "words = ['inceptez','batch15','pythn','class']\n",
    "vowels = ['a','e','i','o','u']\n",
    "return list of words with just vowels "
   ]
  },
  {
   "cell_type": "code",
   "execution_count": 38,
   "metadata": {},
   "outputs": [
    {
     "name": "stdout",
     "output_type": "stream",
     "text": [
      "inceptez\n",
      "inceptez\n",
      "inceptez\n",
      "batch15\n",
      "class\n"
     ]
    }
   ],
   "source": [
    "import datetime \n",
    "words = ['inceptez','batch15','pythn','class']\n",
    "vowels = ['a','e','i','o','u']\n",
    "start = datetime.datetime.now()\n",
    "list_vow = []\n",
    "for i in words:\n",
    "    for j in i: \n",
    "        if(j in vowels):\n",
    "            print(i)\n",
    "            list_vow.append(i)"
   ]
  },
  {
   "cell_type": "code",
   "execution_count": 42,
   "metadata": {},
   "outputs": [
    {
     "name": "stdout",
     "output_type": "stream",
     "text": [
      "inceptez\n",
      "batch15\n",
      "class\n"
     ]
    }
   ],
   "source": [
    "import datetime \n",
    "words = ['inceptez','batch15','pythn','class']\n",
    "vowels = ['a','e','i','o','u']\n",
    "start = datetime.datetime.now()\n",
    "list_vow = []\n",
    "for i in words:\n",
    "    word = list(i)\n",
    "    if(any(k in vowels for k in word)):\n",
    "        print(i)\n",
    "        list_vow.append(i)\n",
    "#print((datetime.datetime.now() - start)*1000)"
   ]
  },
  {
   "cell_type": "code",
   "execution_count": null,
   "metadata": {},
   "outputs": [],
   "source": [
    "words = ['inceptez','batch15','pythn','class']\n",
    "vowels = ['a','e','i','o','u']"
   ]
  },
  {
   "cell_type": "code",
   "execution_count": 44,
   "metadata": {},
   "outputs": [
    {
     "data": {
      "text/plain": [
       "['inceptez', 'inceptez', 'inceptez', 'batch15', 'class']"
      ]
     },
     "execution_count": 44,
     "metadata": {},
     "output_type": "execute_result"
    }
   ],
   "source": [
    "hal = [j for j in words for k in j if k in vowels]\n",
    "hal"
   ]
  },
  {
   "cell_type": "code",
   "execution_count": 45,
   "metadata": {},
   "outputs": [],
   "source": [
    "#Reduce \n",
    "from functools import reduce"
   ]
  },
  {
   "cell_type": "code",
   "execution_count": 46,
   "metadata": {},
   "outputs": [
    {
     "data": {
      "text/plain": [
       "45"
      ]
     },
     "execution_count": 46,
     "metadata": {},
     "output_type": "execute_result"
    }
   ],
   "source": [
    "nums = [1,2,3,4,5,6,7,8,9]\n",
    "def sum_numbers(first,second):\n",
    "    return first+second\n",
    "reduce(sum_numbers,nums)"
   ]
  },
  {
   "cell_type": "code",
   "execution_count": null,
   "metadata": {},
   "outputs": [],
   "source": []
  }
 ],
 "metadata": {
  "kernelspec": {
   "display_name": "Python 3",
   "language": "python",
   "name": "python3"
  },
  "language_info": {
   "codemirror_mode": {
    "name": "ipython",
    "version": 3
   },
   "file_extension": ".py",
   "mimetype": "text/x-python",
   "name": "python",
   "nbconvert_exporter": "python",
   "pygments_lexer": "ipython3",
   "version": "3.8.3"
  }
 },
 "nbformat": 4,
 "nbformat_minor": 2
}
